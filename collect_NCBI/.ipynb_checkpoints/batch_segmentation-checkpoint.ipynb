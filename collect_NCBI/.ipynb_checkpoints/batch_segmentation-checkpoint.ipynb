{
 "cells": [
  {
   "cell_type": "code",
   "execution_count": 1,
   "id": "33478d37",
   "metadata": {},
   "outputs": [
    {
     "name": "stdout",
     "output_type": "stream",
     "text": [
      "\u001b[33mWARNING: Ignoring invalid distribution -rotobuf (/user/mahaohui/miniconda3/envs/DECIMER_IMGSEG/lib/python3.10/site-packages)\u001b[0m\u001b[33m\n",
      "\u001b[0mLooking in indexes: https://pypi.org/simple, https://pypi.ngc.nvidia.com\n",
      "Collecting PyPDF2\n",
      "  Downloading pypdf2-3.0.1-py3-none-any.whl (232 kB)\n",
      "\u001b[2K     \u001b[38;2;114;156;31m━━━━━━━━━━━━━━━━━━━━━━━━━━━━━━━━━━━━━━━\u001b[0m \u001b[32m232.6/232.6 kB\u001b[0m \u001b[31m2.0 MB/s\u001b[0m eta \u001b[36m0:00:00\u001b[0m MB/s\u001b[0m eta \u001b[36m0:00:01\u001b[0m:01\u001b[0m\n",
      "\u001b[?25h\u001b[33mWARNING: Error parsing requirements for tensorflow: [Errno 2] No such file or directory: '/user/mahaohui/miniconda3/envs/DECIMER_IMGSEG/lib/python3.10/site-packages/tensorflow-2.10.0.dist-info/METADATA'\u001b[0m\u001b[33m\n",
      "\u001b[0m\u001b[33mWARNING: Ignoring invalid distribution -rotobuf (/user/mahaohui/miniconda3/envs/DECIMER_IMGSEG/lib/python3.10/site-packages)\u001b[0m\u001b[33m\n",
      "\u001b[0mInstalling collected packages: PyPDF2\n",
      "Successfully installed PyPDF2-3.0.1\n",
      "Note: you may need to restart the kernel to use updated packages.\n"
     ]
    }
   ],
   "source": [
    "pip install PyPDF2"
   ]
  },
  {
   "cell_type": "code",
   "execution_count": null,
   "id": "157e4169",
   "metadata": {},
   "outputs": [],
   "source": [
    "# image segmentation"
   ]
  },
  {
   "cell_type": "code",
   "execution_count": 1,
   "id": "f7d79d78",
   "metadata": {},
   "outputs": [],
   "source": [
    "import os\n",
    "from PyPDF2 import PdfReader, PdfWriter\n",
    "import subprocess\n",
    "def split_pdf(pdf_path):\n",
    "    # Open the PDF file\n",
    "    pdf = PdfReader(open(pdf_path, \"rb\"))\n",
    "    # Split the PDF into single-page PDFs\n",
    "    for page_num in range(len(pdf.pages)):\n",
    "        # Create a new PDF writer object\n",
    "        pdf_writer = PdfWriter()\n",
    "        # Add the current page to the writer\n",
    "        pdf_writer.add_page(pdf.pages[page_num])\n",
    "        # Write the new PDF to disk\n",
    "        output_filename = os.path.splitext(pdf_path)[0].replace(\"pdf\",\"picture\") + \"/page_{}.pdf\".format(page_num+1)\n",
    "        # os.makedirs(os.path.dirname(output_filename), exist_ok=True)\n",
    "        with open(output_filename, \"wb\") as out:\n",
    "            pdf_writer.write(out)\n",
    "        print(\"run segmentation for\",output_filename)\n",
    "        subprocess.call([\"python3\", \"/user/mahaohui/IMG2SMILES/DECIMER_segmentation/segment_structures_in_document.py\", output_filename])\n",
    "    print(\" finish spliting pdf\",pdf_path,\"!!!!!!!!\")\n",
    "       \n",
    "split_pdf(\"/user/mahaohui/IMG2SMILES/collect_NCBI/pdf/dir0/430ff76b5e913386c777.pdf\")"
   ]
  },
  {
   "cell_type": "code",
   "execution_count": null,
   "id": "ee6fe9ec",
   "metadata": {},
   "outputs": [],
   "source": []
  },
  {
   "cell_type": "code",
   "execution_count": 7,
   "id": "79c577e5",
   "metadata": {},
   "outputs": [
    {
     "name": "stdout",
     "output_type": "stream",
     "text": [
      "100\n",
      " finish spliting pdf /user/mahaohui/IMG2SMILES/collect_NCBI_pdf/pdf/dir0/430ff76b5e913386c777.pdf !!!!!!!!\n",
      " finish spliting pdf /user/mahaohui/IMG2SMILES/collect_NCBI_pdf/pdf/dir0/97154e872db7183064ba.pdf !!!!!!!!\n",
      " finish spliting pdf /user/mahaohui/IMG2SMILES/collect_NCBI_pdf/pdf/dir0/6e9a936fa782f0eb22f9.pdf !!!!!!!!\n",
      " finish spliting pdf /user/mahaohui/IMG2SMILES/collect_NCBI_pdf/pdf/dir0/a7d3a4807922b52369e0.pdf !!!!!!!!\n",
      " finish spliting pdf /user/mahaohui/IMG2SMILES/collect_NCBI_pdf/pdf/dir0/0141dc7b3837f446730e.pdf !!!!!!!!\n",
      " finish spliting pdf /user/mahaohui/IMG2SMILES/collect_NCBI_pdf/pdf/dir0/3052c36e409240910907.pdf !!!!!!!!\n",
      " finish spliting pdf /user/mahaohui/IMG2SMILES/collect_NCBI_pdf/pdf/dir0/0a23086f88caa253843c.pdf !!!!!!!!\n",
      " finish spliting pdf /user/mahaohui/IMG2SMILES/collect_NCBI_pdf/pdf/dir0/cae9e590c439e0a5437a.pdf !!!!!!!!\n",
      " finish spliting pdf /user/mahaohui/IMG2SMILES/collect_NCBI_pdf/pdf/dir0/bb4c8ecd079cb805ade7.pdf !!!!!!!!\n",
      " finish spliting pdf /user/mahaohui/IMG2SMILES/collect_NCBI_pdf/pdf/dir0/7a28d29175b0240925c3.pdf !!!!!!!!\n",
      " finish spliting pdf /user/mahaohui/IMG2SMILES/collect_NCBI_pdf/pdf/dir0/2f0bf1dcaea4015bda95.pdf !!!!!!!!\n",
      " finish spliting pdf /user/mahaohui/IMG2SMILES/collect_NCBI_pdf/pdf/dir0/5bba459d032cf062295b.pdf !!!!!!!!\n",
      " finish spliting pdf /user/mahaohui/IMG2SMILES/collect_NCBI_pdf/pdf/dir0/e34da45bd81ae079a928.pdf !!!!!!!!\n",
      " finish spliting pdf /user/mahaohui/IMG2SMILES/collect_NCBI_pdf/pdf/dir0/c6dc72e6a2f6c7af23e7.pdf !!!!!!!!\n",
      " finish spliting pdf /user/mahaohui/IMG2SMILES/collect_NCBI_pdf/pdf/dir0/84b6b0ee715ef874b82f.pdf !!!!!!!!\n",
      " finish spliting pdf /user/mahaohui/IMG2SMILES/collect_NCBI_pdf/pdf/dir0/99f2e7a6acefd542f636.pdf !!!!!!!!\n",
      " finish spliting pdf /user/mahaohui/IMG2SMILES/collect_NCBI_pdf/pdf/dir0/4c00b0c40b3df546a533.pdf !!!!!!!!\n",
      " finish spliting pdf /user/mahaohui/IMG2SMILES/collect_NCBI_pdf/pdf/dir0/b1d24856079cbf8810ee.pdf !!!!!!!!\n",
      " finish spliting pdf /user/mahaohui/IMG2SMILES/collect_NCBI_pdf/pdf/dir0/d102b5a43a984cb5f183.pdf !!!!!!!!\n",
      " finish spliting pdf /user/mahaohui/IMG2SMILES/collect_NCBI_pdf/pdf/dir0/53d82dc3b7ac652a1467.pdf !!!!!!!!\n",
      " finish spliting pdf /user/mahaohui/IMG2SMILES/collect_NCBI_pdf/pdf/dir0/871a525241f760658c8d.pdf !!!!!!!!\n",
      " finish spliting pdf /user/mahaohui/IMG2SMILES/collect_NCBI_pdf/pdf/dir0/0ae8903bb7fdd6d8e26c.pdf !!!!!!!!\n",
      " finish spliting pdf /user/mahaohui/IMG2SMILES/collect_NCBI_pdf/pdf/dir0/0995232c3db1a26f46ca.pdf !!!!!!!!\n",
      " finish spliting pdf /user/mahaohui/IMG2SMILES/collect_NCBI_pdf/pdf/dir0/debc5e49b7793a535f76.pdf !!!!!!!!\n",
      " finish spliting pdf /user/mahaohui/IMG2SMILES/collect_NCBI_pdf/pdf/dir0/7b09c4ff6d3a9a1bab14.pdf !!!!!!!!\n",
      " finish spliting pdf /user/mahaohui/IMG2SMILES/collect_NCBI_pdf/pdf/dir0/adc492e5e6791ac9d6ff.pdf !!!!!!!!\n",
      " finish spliting pdf /user/mahaohui/IMG2SMILES/collect_NCBI_pdf/pdf/dir0/ab9f89ec50b95483bb12.pdf !!!!!!!!\n",
      " finish spliting pdf /user/mahaohui/IMG2SMILES/collect_NCBI_pdf/pdf/dir0/2abb79af3253231c6a8e.pdf !!!!!!!!\n",
      " finish spliting pdf /user/mahaohui/IMG2SMILES/collect_NCBI_pdf/pdf/dir0/092e4c1a2caf725585ba.pdf !!!!!!!!\n",
      " finish spliting pdf /user/mahaohui/IMG2SMILES/collect_NCBI_pdf/pdf/dir0/14d22735453e30cb1b5a.pdf !!!!!!!!\n",
      " finish spliting pdf /user/mahaohui/IMG2SMILES/collect_NCBI_pdf/pdf/dir0/5ef589dae17719531dce.pdf !!!!!!!!\n",
      " finish spliting pdf /user/mahaohui/IMG2SMILES/collect_NCBI_pdf/pdf/dir0/c0fcf746980f4c8f4b6d.pdf !!!!!!!!\n",
      " finish spliting pdf /user/mahaohui/IMG2SMILES/collect_NCBI_pdf/pdf/dir0/70a38fb099b418af25e7.pdf !!!!!!!!\n",
      " finish spliting pdf /user/mahaohui/IMG2SMILES/collect_NCBI_pdf/pdf/dir0/65a34bf0beac0a556207.pdf !!!!!!!!\n",
      " finish spliting pdf /user/mahaohui/IMG2SMILES/collect_NCBI_pdf/pdf/dir0/efb768e805689c152dc6.pdf !!!!!!!!\n",
      " finish spliting pdf /user/mahaohui/IMG2SMILES/collect_NCBI_pdf/pdf/dir0/d82aa188ae76d1347f3d.pdf !!!!!!!!\n",
      " finish spliting pdf /user/mahaohui/IMG2SMILES/collect_NCBI_pdf/pdf/dir0/4c80f2e7c5ce9459497e.pdf !!!!!!!!\n",
      " finish spliting pdf /user/mahaohui/IMG2SMILES/collect_NCBI_pdf/pdf/dir0/1d5b86c2292bf24dc66a.pdf !!!!!!!!\n",
      " finish spliting pdf /user/mahaohui/IMG2SMILES/collect_NCBI_pdf/pdf/dir0/3d03619e6a8e39f5f43f.pdf !!!!!!!!\n",
      " finish spliting pdf /user/mahaohui/IMG2SMILES/collect_NCBI_pdf/pdf/dir0/96d7cffe8a9a31a919e3.pdf !!!!!!!!\n",
      " finish spliting pdf /user/mahaohui/IMG2SMILES/collect_NCBI_pdf/pdf/dir0/397d876bfdad3bb2448d.pdf !!!!!!!!\n",
      " finish spliting pdf /user/mahaohui/IMG2SMILES/collect_NCBI_pdf/pdf/dir0/26f5867471abefb3a9ee.pdf !!!!!!!!\n",
      " finish spliting pdf /user/mahaohui/IMG2SMILES/collect_NCBI_pdf/pdf/dir0/5b207f06f42c35021069.pdf !!!!!!!!\n",
      " finish spliting pdf /user/mahaohui/IMG2SMILES/collect_NCBI_pdf/pdf/dir0/659a3fc793cd48c18fcb.pdf !!!!!!!!\n",
      " finish spliting pdf /user/mahaohui/IMG2SMILES/collect_NCBI_pdf/pdf/dir0/5f44ae78930aaa3f697b.pdf !!!!!!!!\n",
      " finish spliting pdf /user/mahaohui/IMG2SMILES/collect_NCBI_pdf/pdf/dir0/558f07583ff0f50bc073.pdf !!!!!!!!\n",
      " finish spliting pdf /user/mahaohui/IMG2SMILES/collect_NCBI_pdf/pdf/dir0/65b6212855eb4638e65e.pdf !!!!!!!!\n",
      " finish spliting pdf /user/mahaohui/IMG2SMILES/collect_NCBI_pdf/pdf/dir0/f44eda2879140b43804e.pdf !!!!!!!!\n",
      " finish spliting pdf /user/mahaohui/IMG2SMILES/collect_NCBI_pdf/pdf/dir0/de8996045b29dd28949b.pdf !!!!!!!!\n",
      " finish spliting pdf /user/mahaohui/IMG2SMILES/collect_NCBI_pdf/pdf/dir0/a880ce9656d9a58e8f53.pdf !!!!!!!!\n",
      " finish spliting pdf /user/mahaohui/IMG2SMILES/collect_NCBI_pdf/pdf/dir0/2c3b72123ae1a6d5eb61.pdf !!!!!!!!\n",
      " finish spliting pdf /user/mahaohui/IMG2SMILES/collect_NCBI_pdf/pdf/dir0/916fbe2c4f921450ef22.pdf !!!!!!!!\n",
      " finish spliting pdf /user/mahaohui/IMG2SMILES/collect_NCBI_pdf/pdf/dir0/759a1dfa96e64b222f94.pdf !!!!!!!!\n",
      " finish spliting pdf /user/mahaohui/IMG2SMILES/collect_NCBI_pdf/pdf/dir0/28291b5ecb6539d5c818.pdf !!!!!!!!\n",
      " finish spliting pdf /user/mahaohui/IMG2SMILES/collect_NCBI_pdf/pdf/dir0/115294bbca0718e22782.pdf !!!!!!!!\n",
      " finish spliting pdf /user/mahaohui/IMG2SMILES/collect_NCBI_pdf/pdf/dir0/5e76e6c841d9164b619c.pdf !!!!!!!!\n",
      " finish spliting pdf /user/mahaohui/IMG2SMILES/collect_NCBI_pdf/pdf/dir0/3a5eb2086b7c1e35791c.pdf !!!!!!!!\n",
      " finish spliting pdf /user/mahaohui/IMG2SMILES/collect_NCBI_pdf/pdf/dir0/b1f747acb98a7ee6db9c.pdf !!!!!!!!\n",
      " finish spliting pdf /user/mahaohui/IMG2SMILES/collect_NCBI_pdf/pdf/dir0/9e816cbf3df69e319b40.pdf !!!!!!!!\n",
      " finish spliting pdf /user/mahaohui/IMG2SMILES/collect_NCBI_pdf/pdf/dir0/6c3aeb38a363ea4d6dcc.pdf !!!!!!!!\n",
      " finish spliting pdf /user/mahaohui/IMG2SMILES/collect_NCBI_pdf/pdf/dir0/535860311f49f8b4d010.pdf !!!!!!!!\n",
      " finish spliting pdf /user/mahaohui/IMG2SMILES/collect_NCBI_pdf/pdf/dir0/f431c4058b271e4577d4.pdf !!!!!!!!\n",
      " finish spliting pdf /user/mahaohui/IMG2SMILES/collect_NCBI_pdf/pdf/dir0/886cbd75f177e18bcaa7.pdf !!!!!!!!\n",
      " finish spliting pdf /user/mahaohui/IMG2SMILES/collect_NCBI_pdf/pdf/dir0/6d5d4f0b09f2f651b03b.pdf !!!!!!!!\n",
      " finish spliting pdf /user/mahaohui/IMG2SMILES/collect_NCBI_pdf/pdf/dir0/80b23f75e9a32cfa9cdc.pdf !!!!!!!!\n",
      " finish spliting pdf /user/mahaohui/IMG2SMILES/collect_NCBI_pdf/pdf/dir0/5c919a9432ce58cc69c5.pdf !!!!!!!!\n",
      " finish spliting pdf /user/mahaohui/IMG2SMILES/collect_NCBI_pdf/pdf/dir0/d60d334b86d963cd6cb3.pdf !!!!!!!!\n",
      " finish spliting pdf /user/mahaohui/IMG2SMILES/collect_NCBI_pdf/pdf/dir0/e6ccd8af94708dc8c7e0.pdf !!!!!!!!\n",
      " finish spliting pdf /user/mahaohui/IMG2SMILES/collect_NCBI_pdf/pdf/dir0/3b0b46425826e7674da0.pdf !!!!!!!!\n",
      " finish spliting pdf /user/mahaohui/IMG2SMILES/collect_NCBI_pdf/pdf/dir0/a4494d031a6a4594f404.pdf !!!!!!!!\n",
      " finish spliting pdf /user/mahaohui/IMG2SMILES/collect_NCBI_pdf/pdf/dir0/6b51ec8e4f0b79673bf6.pdf !!!!!!!!\n",
      " finish spliting pdf /user/mahaohui/IMG2SMILES/collect_NCBI_pdf/pdf/dir0/50745487af276f5b0a98.pdf !!!!!!!!\n",
      " finish spliting pdf /user/mahaohui/IMG2SMILES/collect_NCBI_pdf/pdf/dir0/40c49b11f7ba4ba6c36b.pdf !!!!!!!!\n",
      " finish spliting pdf /user/mahaohui/IMG2SMILES/collect_NCBI_pdf/pdf/dir0/c8a71c70db9cb7aea4f4.pdf !!!!!!!!\n",
      " finish spliting pdf /user/mahaohui/IMG2SMILES/collect_NCBI_pdf/pdf/dir0/8bd20b462c4b243fdde5.pdf !!!!!!!!\n",
      " finish spliting pdf /user/mahaohui/IMG2SMILES/collect_NCBI_pdf/pdf/dir0/9885f650a3ee657ee440.pdf !!!!!!!!\n",
      " finish spliting pdf /user/mahaohui/IMG2SMILES/collect_NCBI_pdf/pdf/dir0/cac84ace5c2196099f08.pdf !!!!!!!!\n"
     ]
    },
    {
     "name": "stdout",
     "output_type": "stream",
     "text": [
      " finish spliting pdf /user/mahaohui/IMG2SMILES/collect_NCBI_pdf/pdf/dir0/7f6886228257f05e2a47.pdf !!!!!!!!\n",
      " finish spliting pdf /user/mahaohui/IMG2SMILES/collect_NCBI_pdf/pdf/dir0/913375cbf688d8afa30e.pdf !!!!!!!!\n",
      " finish spliting pdf /user/mahaohui/IMG2SMILES/collect_NCBI_pdf/pdf/dir0/a31d6492cec13bf0a7aa.pdf !!!!!!!!\n",
      " finish spliting pdf /user/mahaohui/IMG2SMILES/collect_NCBI_pdf/pdf/dir0/396b3c94c82db11ae97d.pdf !!!!!!!!\n",
      " finish spliting pdf /user/mahaohui/IMG2SMILES/collect_NCBI_pdf/pdf/dir0/2507d9327307d2c1b24a.pdf !!!!!!!!\n",
      " finish spliting pdf /user/mahaohui/IMG2SMILES/collect_NCBI_pdf/pdf/dir0/21f2821491fb3ef25cd3.pdf !!!!!!!!\n",
      " finish spliting pdf /user/mahaohui/IMG2SMILES/collect_NCBI_pdf/pdf/dir0/835ac7330bb1de8d43c7.pdf !!!!!!!!\n",
      " finish spliting pdf /user/mahaohui/IMG2SMILES/collect_NCBI_pdf/pdf/dir0/e33e3fb89bfccbed445f.pdf !!!!!!!!\n",
      " finish spliting pdf /user/mahaohui/IMG2SMILES/collect_NCBI_pdf/pdf/dir0/38d93a5de9e5d2978b34.pdf !!!!!!!!\n",
      " finish spliting pdf /user/mahaohui/IMG2SMILES/collect_NCBI_pdf/pdf/dir0/820281cca93eea92ef44.pdf !!!!!!!!\n",
      " finish spliting pdf /user/mahaohui/IMG2SMILES/collect_NCBI_pdf/pdf/dir0/5568e3241ef12c11cde2.pdf !!!!!!!!\n",
      " finish spliting pdf /user/mahaohui/IMG2SMILES/collect_NCBI_pdf/pdf/dir0/81229f9e4538e418cb94.pdf !!!!!!!!\n",
      " finish spliting pdf /user/mahaohui/IMG2SMILES/collect_NCBI_pdf/pdf/dir0/58261a72c78f393a2d02.pdf !!!!!!!!\n",
      " finish spliting pdf /user/mahaohui/IMG2SMILES/collect_NCBI_pdf/pdf/dir0/9d2a6ed0e399d0323695.pdf !!!!!!!!\n",
      " finish spliting pdf /user/mahaohui/IMG2SMILES/collect_NCBI_pdf/pdf/dir0/ad3af5ed0b59ebf82a6d.pdf !!!!!!!!\n",
      " finish spliting pdf /user/mahaohui/IMG2SMILES/collect_NCBI_pdf/pdf/dir0/c964714474800bbf3c24.pdf !!!!!!!!\n",
      " finish spliting pdf /user/mahaohui/IMG2SMILES/collect_NCBI_pdf/pdf/dir0/dbb53ecf65b72d9c0577.pdf !!!!!!!!\n",
      " finish spliting pdf /user/mahaohui/IMG2SMILES/collect_NCBI_pdf/pdf/dir0/628a1d2a5f1aefa75460.pdf !!!!!!!!\n",
      " finish spliting pdf /user/mahaohui/IMG2SMILES/collect_NCBI_pdf/pdf/dir0/0a2b60e72f76ae7c66db.pdf !!!!!!!!\n",
      " finish spliting pdf /user/mahaohui/IMG2SMILES/collect_NCBI_pdf/pdf/dir0/a1fa4bd0798bbc90a9f1.pdf !!!!!!!!\n",
      " finish spliting pdf /user/mahaohui/IMG2SMILES/collect_NCBI_pdf/pdf/dir0/1ede24950a27efd16167.pdf !!!!!!!!\n",
      " finish spliting pdf /user/mahaohui/IMG2SMILES/collect_NCBI_pdf/pdf/dir0/65e5061998f48d270281.pdf !!!!!!!!\n",
      " finish spliting pdf /user/mahaohui/IMG2SMILES/collect_NCBI_pdf/pdf/dir0/50d5159ffeea283707a8.pdf !!!!!!!!\n"
     ]
    }
   ],
   "source": [
    "import os\n",
    "pdf_num = 10\n",
    "target_dir = \"/user/mahaohui/IMG2SMILES/collect_NCBI/pdf/dir0\"\n",
    "\n",
    "\n",
    "pdflist = os.listdir(target_dir)[:pdf_num]\n",
    "print(len(pdflist))\n",
    "for pdf_name in pdflist:\n",
    "    pdf_path = os.path.join(target_dir,pdf_name)\n",
    "    split_pdf(pdf_path)"
   ]
  },
  {
   "cell_type": "code",
   "execution_count": null,
   "id": "ade33902",
   "metadata": {},
   "outputs": [],
   "source": []
  },
  {
   "cell_type": "code",
   "execution_count": 24,
   "id": "b78ac1d6",
   "metadata": {},
   "outputs": [
    {
     "name": "stdout",
     "output_type": "stream",
     "text": [
      "/user/mahaohui/IMG2SMILES/collect_NCBI_pdf/picture/dir0/0a2b60e72f76ae7c66db/page_10.pdf\n"
     ]
    },
    {
     "name": "stderr",
     "output_type": "stream",
     "text": [
      "2023-06-07 17:40:54.149205: I tensorflow/core/platform/cpu_feature_guard.cc:193] This TensorFlow binary is optimized with oneAPI Deep Neural Network Library (oneDNN) to use the following CPU instructions in performance-critical operations:  AVX2 AVX512F AVX512_VNNI FMA\n",
      "To enable them in other operations, rebuild TensorFlow with the appropriate compiler flags.\n",
      "2023-06-07 17:40:54.403159: I tensorflow/core/util/util.cc:169] oneDNN custom operations are on. You may see slightly different numerical results due to floating-point round-off errors from different computation orders. To turn them off, set the environment variable `TF_ENABLE_ONEDNN_OPTS=0`.\n",
      "2023-06-07 17:40:54.414924: W tensorflow/stream_executor/platform/default/dso_loader.cc:64] Could not load dynamic library 'libcudart.so.11.0'; dlerror: libcudart.so.11.0: cannot open shared object file: No such file or directory; LD_LIBRARY_PATH: /user/mahaohui/miniconda3/envs/DECIMER_IMGSEG/lib/python3.10/site-packages/cv2/../../lib64:/opt/ohpc/pub/apps/openmpi/4.0.4_cuda10.1_gnu/lib:/user/pengxiangda/apps/orca_5_0_3_linux_x86-64_shared_openmpi411:/user/mahaohui/miniconda3/envs/lib\n",
      "2023-06-07 17:40:54.414958: I tensorflow/stream_executor/cuda/cudart_stub.cc:29] Ignore above cudart dlerror if you do not have a GPU set up on your machine.\n",
      "2023-06-07 17:40:54.468832: E tensorflow/stream_executor/cuda/cuda_blas.cc:2981] Unable to register cuBLAS factory: Attempting to register factory for plugin cuBLAS when one has already been registered\n",
      "2023-06-07 17:41:02.537331: W tensorflow/stream_executor/platform/default/dso_loader.cc:64] Could not load dynamic library 'libnvinfer.so.7'; dlerror: libnvinfer.so.7: cannot open shared object file: No such file or directory; LD_LIBRARY_PATH: /user/mahaohui/miniconda3/envs/DECIMER_IMGSEG/lib/python3.10/site-packages/cv2/../../lib64:/opt/ohpc/pub/apps/openmpi/4.0.4_cuda10.1_gnu/lib:/user/pengxiangda/apps/orca_5_0_3_linux_x86-64_shared_openmpi411:/user/mahaohui/miniconda3/envs/lib\n",
      "2023-06-07 17:41:02.537482: W tensorflow/stream_executor/platform/default/dso_loader.cc:64] Could not load dynamic library 'libnvinfer_plugin.so.7'; dlerror: libnvinfer_plugin.so.7: cannot open shared object file: No such file or directory; LD_LIBRARY_PATH: /user/mahaohui/miniconda3/envs/DECIMER_IMGSEG/lib/python3.10/site-packages/cv2/../../lib64:/opt/ohpc/pub/apps/openmpi/4.0.4_cuda10.1_gnu/lib:/user/pengxiangda/apps/orca_5_0_3_linux_x86-64_shared_openmpi411:/user/mahaohui/miniconda3/envs/lib\n",
      "2023-06-07 17:41:02.537500: W tensorflow/compiler/tf2tensorrt/utils/py_utils.cc:38] TF-TRT Warning: Cannot dlopen some TensorRT libraries. If you would like to use Nvidia GPU with TensorRT, please make sure the missing libraries mentioned above are installed properly.\n",
      "2023-06-07 17:41:19.132749: W tensorflow/stream_executor/platform/default/dso_loader.cc:64] Could not load dynamic library 'libcudart.so.11.0'; dlerror: libcudart.so.11.0: cannot open shared object file: No such file or directory; LD_LIBRARY_PATH: /user/mahaohui/miniconda3/envs/DECIMER_IMGSEG/lib/python3.10/site-packages/cv2/../../lib64:/opt/ohpc/pub/apps/openmpi/4.0.4_cuda10.1_gnu/lib:/user/pengxiangda/apps/orca_5_0_3_linux_x86-64_shared_openmpi411:/user/mahaohui/miniconda3/envs/lib\n",
      "2023-06-07 17:41:19.132872: W tensorflow/stream_executor/platform/default/dso_loader.cc:64] Could not load dynamic library 'libcublas.so.11'; dlerror: libcublas.so.11: cannot open shared object file: No such file or directory; LD_LIBRARY_PATH: /user/mahaohui/miniconda3/envs/DECIMER_IMGSEG/lib/python3.10/site-packages/cv2/../../lib64:/opt/ohpc/pub/apps/openmpi/4.0.4_cuda10.1_gnu/lib:/user/pengxiangda/apps/orca_5_0_3_linux_x86-64_shared_openmpi411:/user/mahaohui/miniconda3/envs/lib\n",
      "2023-06-07 17:41:19.132946: W tensorflow/stream_executor/platform/default/dso_loader.cc:64] Could not load dynamic library 'libcublasLt.so.11'; dlerror: libcublasLt.so.11: cannot open shared object file: No such file or directory; LD_LIBRARY_PATH: /user/mahaohui/miniconda3/envs/DECIMER_IMGSEG/lib/python3.10/site-packages/cv2/../../lib64:/opt/ohpc/pub/apps/openmpi/4.0.4_cuda10.1_gnu/lib:/user/pengxiangda/apps/orca_5_0_3_linux_x86-64_shared_openmpi411:/user/mahaohui/miniconda3/envs/lib\n",
      "2023-06-07 17:41:19.133027: W tensorflow/stream_executor/platform/default/dso_loader.cc:64] Could not load dynamic library 'libcufft.so.10'; dlerror: libcufft.so.10: cannot open shared object file: No such file or directory; LD_LIBRARY_PATH: /user/mahaohui/miniconda3/envs/DECIMER_IMGSEG/lib/python3.10/site-packages/cv2/../../lib64:/opt/ohpc/pub/apps/openmpi/4.0.4_cuda10.1_gnu/lib:/user/pengxiangda/apps/orca_5_0_3_linux_x86-64_shared_openmpi411:/user/mahaohui/miniconda3/envs/lib\n",
      "2023-06-07 17:41:19.133110: W tensorflow/stream_executor/platform/default/dso_loader.cc:64] Could not load dynamic library 'libcurand.so.10'; dlerror: libcurand.so.10: cannot open shared object file: No such file or directory; LD_LIBRARY_PATH: /user/mahaohui/miniconda3/envs/DECIMER_IMGSEG/lib/python3.10/site-packages/cv2/../../lib64:/opt/ohpc/pub/apps/openmpi/4.0.4_cuda10.1_gnu/lib:/user/pengxiangda/apps/orca_5_0_3_linux_x86-64_shared_openmpi411:/user/mahaohui/miniconda3/envs/lib\n",
      "2023-06-07 17:41:19.133173: W tensorflow/stream_executor/platform/default/dso_loader.cc:64] Could not load dynamic library 'libcusolver.so.11'; dlerror: libcusolver.so.11: cannot open shared object file: No such file or directory; LD_LIBRARY_PATH: /user/mahaohui/miniconda3/envs/DECIMER_IMGSEG/lib/python3.10/site-packages/cv2/../../lib64:/opt/ohpc/pub/apps/openmpi/4.0.4_cuda10.1_gnu/lib:/user/pengxiangda/apps/orca_5_0_3_linux_x86-64_shared_openmpi411:/user/mahaohui/miniconda3/envs/lib\n",
      "2023-06-07 17:41:19.133235: W tensorflow/stream_executor/platform/default/dso_loader.cc:64] Could not load dynamic library 'libcusparse.so.11'; dlerror: libcusparse.so.11: cannot open shared object file: No such file or directory; LD_LIBRARY_PATH: /user/mahaohui/miniconda3/envs/DECIMER_IMGSEG/lib/python3.10/site-packages/cv2/../../lib64:/opt/ohpc/pub/apps/openmpi/4.0.4_cuda10.1_gnu/lib:/user/pengxiangda/apps/orca_5_0_3_linux_x86-64_shared_openmpi411:/user/mahaohui/miniconda3/envs/lib\n",
      "2023-06-07 17:41:19.133299: W tensorflow/stream_executor/platform/default/dso_loader.cc:64] Could not load dynamic library 'libcudnn.so.8'; dlerror: libcudnn.so.8: cannot open shared object file: No such file or directory; LD_LIBRARY_PATH: /user/mahaohui/miniconda3/envs/DECIMER_IMGSEG/lib/python3.10/site-packages/cv2/../../lib64:/opt/ohpc/pub/apps/openmpi/4.0.4_cuda10.1_gnu/lib:/user/pengxiangda/apps/orca_5_0_3_linux_x86-64_shared_openmpi411:/user/mahaohui/miniconda3/envs/lib\n",
      "2023-06-07 17:41:19.133324: W tensorflow/core/common_runtime/gpu/gpu_device.cc:1934] Cannot dlopen some GPU libraries. Please make sure the missing libraries mentioned above are installed properly if you would like to use GPU. Follow the guide at https://www.tensorflow.org/install/gpu for how to download and setup the required libraries for your platform.\n",
      "Skipping registering GPU devices...\n",
      "2023-06-07 17:41:26.275597: I tensorflow/core/platform/cpu_feature_guard.cc:193] This TensorFlow binary is optimized with oneAPI Deep Neural Network Library (oneDNN) to use the following CPU instructions in performance-critical operations:  AVX2 AVX512F AVX512_VNNI FMA\n",
      "To enable them in other operations, rebuild TensorFlow with the appropriate compiler flags.\n",
      "WARNING:tensorflow:From /user/mahaohui/miniconda3/envs/DECIMER_IMGSEG/lib/python3.10/site-packages/tensorflow/python/util/deprecation.py:629: calling map_fn_v2 (from tensorflow.python.ops.map_fn) with dtype is deprecated and will be removed in a future version.\n",
      "Instructions for updating:\n",
      "Use fn_output_signature instead\n",
      "2023-06-07 17:41:41.948830: W tensorflow/core/grappler/costs/op_level_cost_estimator.cc:690] Error in PredictCost() for the op: op: \"CropAndResize\" attr { key: \"T\" value { type: DT_FLOAT } } attr { key: \"extrapolation_value\" value { f: 0 } } attr { key: \"method\" value { s: \"bilinear\" } } inputs { dtype: DT_FLOAT shape { dim { size: -45 } dim { size: 256 } dim { size: 256 } dim { size: 256 } } } inputs { dtype: DT_FLOAT shape { dim { size: -19 } dim { size: 4 } } } inputs { dtype: DT_INT32 shape { dim { size: -19 } } } inputs { dtype: DT_INT32 shape { dim { size: 2 } } value { dtype: DT_INT32 tensor_shape { dim { size: 2 } } int_val: 7 } } device { type: \"CPU\" vendor: \"GenuineIntel\" model: \"101\" frequency: 2100 num_cores: 104 environment { key: \"cpu_instruction_set\" value: \"AVX SSE, SSE2, SSE3, SSSE3, SSE4.1, SSE4.2\" } environment { key: \"eigen\" value: \"3.4.90\" } l1_cache_size: 32768 l2_cache_size: 1048576 l3_cache_size: 37486592 memory_size: 268435456 } outputs { dtype: DT_FLOAT shape { dim { size: -19 } dim { size: 7 } dim { size: 7 } dim { size: 256 } } }\n",
      "2023-06-07 17:41:41.949287: W tensorflow/core/grappler/costs/op_level_cost_estimator.cc:690] Error in PredictCost() for the op: op: \"CropAndResize\" attr { key: \"T\" value { type: DT_FLOAT } } attr { key: \"extrapolation_value\" value { f: 0 } } attr { key: \"method\" value { s: \"bilinear\" } } inputs { dtype: DT_FLOAT shape { dim { size: -45 } dim { size: 128 } dim { size: 128 } dim { size: 256 } } } inputs { dtype: DT_FLOAT shape { dim { size: -22 } dim { size: 4 } } } inputs { dtype: DT_INT32 shape { dim { size: -22 } } } inputs { dtype: DT_INT32 shape { dim { size: 2 } } value { dtype: DT_INT32 tensor_shape { dim { size: 2 } } int_val: 7 } } device { type: \"CPU\" vendor: \"GenuineIntel\" model: \"101\" frequency: 2100 num_cores: 104 environment { key: \"cpu_instruction_set\" value: \"AVX SSE, SSE2, SSE3, SSSE3, SSE4.1, SSE4.2\" } environment { key: \"eigen\" value: \"3.4.90\" } l1_cache_size: 32768 l2_cache_size: 1048576 l3_cache_size: 37486592 memory_size: 268435456 } outputs { dtype: DT_FLOAT shape { dim { size: -22 } dim { size: 7 } dim { size: 7 } dim { size: 256 } } }\n",
      "2023-06-07 17:41:41.949451: W tensorflow/core/grappler/costs/op_level_cost_estimator.cc:690] Error in PredictCost() for the op: op: \"CropAndResize\" attr { key: \"T\" value { type: DT_FLOAT } } attr { key: \"extrapolation_value\" value { f: 0 } } attr { key: \"method\" value { s: \"bilinear\" } } inputs { dtype: DT_FLOAT shape { dim { size: -45 } dim { size: 64 } dim { size: 64 } dim { size: 256 } } } inputs { dtype: DT_FLOAT shape { dim { size: -24 } dim { size: 4 } } } inputs { dtype: DT_INT32 shape { dim { size: -24 } } } inputs { dtype: DT_INT32 shape { dim { size: 2 } } value { dtype: DT_INT32 tensor_shape { dim { size: 2 } } int_val: 7 } } device { type: \"CPU\" vendor: \"GenuineIntel\" model: \"101\" frequency: 2100 num_cores: 104 environment { key: \"cpu_instruction_set\" value: \"AVX SSE, SSE2, SSE3, SSSE3, SSE4.1, SSE4.2\" } environment { key: \"eigen\" value: \"3.4.90\" } l1_cache_size: 32768 l2_cache_size: 1048576 l3_cache_size: 37486592 memory_size: 268435456 } outputs { dtype: DT_FLOAT shape { dim { size: -24 } dim { size: 7 } dim { size: 7 } dim { size: 256 } } }\n",
      "2023-06-07 17:41:41.949638: W tensorflow/core/grappler/costs/op_level_cost_estimator.cc:690] Error in PredictCost() for the op: op: \"CropAndResize\" attr { key: \"T\" value { type: DT_FLOAT } } attr { key: \"extrapolation_value\" value { f: 0 } } attr { key: \"method\" value { s: \"bilinear\" } } inputs { dtype: DT_FLOAT shape { dim { size: -45 } dim { size: 32 } dim { size: 32 } dim { size: 256 } } } inputs { dtype: DT_FLOAT shape { dim { size: -26 } dim { size: 4 } } } inputs { dtype: DT_INT32 shape { dim { size: -26 } } } inputs { dtype: DT_INT32 shape { dim { size: 2 } } value { dtype: DT_INT32 tensor_shape { dim { size: 2 } } int_val: 7 } } device { type: \"CPU\" vendor: \"GenuineIntel\" model: \"101\" frequency: 2100 num_cores: 104 environment { key: \"cpu_instruction_set\" value: \"AVX SSE, SSE2, SSE3, SSSE3, SSE4.1, SSE4.2\" } environment { key: \"eigen\" value: \"3.4.90\" } l1_cache_size: 32768 l2_cache_size: 1048576 l3_cache_size: 37486592 memory_size: 268435456 } outputs { dtype: DT_FLOAT shape { dim { size: -26 } dim { size: 7 } dim { size: 7 } dim { size: 256 } } }\n",
      "2023-06-07 17:41:41.956725: W tensorflow/core/grappler/costs/op_level_cost_estimator.cc:690] Error in PredictCost() for the op: op: \"CropAndResize\" attr { key: \"T\" value { type: DT_FLOAT } } attr { key: \"extrapolation_value\" value { f: 0 } } attr { key: \"method\" value { s: \"bilinear\" } } inputs { dtype: DT_FLOAT shape { dim { size: -45 } dim { size: 256 } dim { size: 256 } dim { size: 256 } } } inputs { dtype: DT_FLOAT shape { dim { size: -34 } dim { size: 4 } } } inputs { dtype: DT_INT32 shape { dim { size: -34 } } } inputs { dtype: DT_INT32 shape { dim { size: 2 } } value { dtype: DT_INT32 tensor_shape { dim { size: 2 } } int_val: 14 } } device { type: \"CPU\" vendor: \"GenuineIntel\" model: \"101\" frequency: 2100 num_cores: 104 environment { key: \"cpu_instruction_set\" value: \"AVX SSE, SSE2, SSE3, SSSE3, SSE4.1, SSE4.2\" } environment { key: \"eigen\" value: \"3.4.90\" } l1_cache_size: 32768 l2_cache_size: 1048576 l3_cache_size: 37486592 memory_size: 268435456 } outputs { dtype: DT_FLOAT shape { dim { size: -34 } dim { size: 14 } dim { size: 14 } dim { size: 256 } } }\n",
      "2023-06-07 17:41:41.956899: W tensorflow/core/grappler/costs/op_level_cost_estimator.cc:690] Error in PredictCost() for the op: op: \"CropAndResize\" attr { key: \"T\" value { type: DT_FLOAT } } attr { key: \"extrapolation_value\" value { f: 0 } } attr { key: \"method\" value { s: \"bilinear\" } } inputs { dtype: DT_FLOAT shape { dim { size: -45 } dim { size: 128 } dim { size: 128 } dim { size: 256 } } } inputs { dtype: DT_FLOAT shape { dim { size: -36 } dim { size: 4 } } } inputs { dtype: DT_INT32 shape { dim { size: -36 } } } inputs { dtype: DT_INT32 shape { dim { size: 2 } } value { dtype: DT_INT32 tensor_shape { dim { size: 2 } } int_val: 14 } } device { type: \"CPU\" vendor: \"GenuineIntel\" model: \"101\" frequency: 2100 num_cores: 104 environment { key: \"cpu_instruction_set\" value: \"AVX SSE, SSE2, SSE3, SSSE3, SSE4.1, SSE4.2\" } environment { key: \"eigen\" value: \"3.4.90\" } l1_cache_size: 32768 l2_cache_size: 1048576 l3_cache_size: 37486592 memory_size: 268435456 } outputs { dtype: DT_FLOAT shape { dim { size: -36 } dim { size: 14 } dim { size: 14 } dim { size: 256 } } }\n",
      "2023-06-07 17:41:41.957061: W tensorflow/core/grappler/costs/op_level_cost_estimator.cc:690] Error in PredictCost() for the op: op: \"CropAndResize\" attr { key: \"T\" value { type: DT_FLOAT } } attr { key: \"extrapolation_value\" value { f: 0 } } attr { key: \"method\" value { s: \"bilinear\" } } inputs { dtype: DT_FLOAT shape { dim { size: -45 } dim { size: 64 } dim { size: 64 } dim { size: 256 } } } inputs { dtype: DT_FLOAT shape { dim { size: -38 } dim { size: 4 } } } inputs { dtype: DT_INT32 shape { dim { size: -38 } } } inputs { dtype: DT_INT32 shape { dim { size: 2 } } value { dtype: DT_INT32 tensor_shape { dim { size: 2 } } int_val: 14 } } device { type: \"CPU\" vendor: \"GenuineIntel\" model: \"101\" frequency: 2100 num_cores: 104 environment { key: \"cpu_instruction_set\" value: \"AVX SSE, SSE2, SSE3, SSSE3, SSE4.1, SSE4.2\" } environment { key: \"eigen\" value: \"3.4.90\" } l1_cache_size: 32768 l2_cache_size: 1048576 l3_cache_size: 37486592 memory_size: 268435456 } outputs { dtype: DT_FLOAT shape { dim { size: -38 } dim { size: 14 } dim { size: 14 } dim { size: 256 } } }\n",
      "2023-06-07 17:41:41.957252: W tensorflow/core/grappler/costs/op_level_cost_estimator.cc:690] Error in PredictCost() for the op: op: \"CropAndResize\" attr { key: \"T\" value { type: DT_FLOAT } } attr { key: \"extrapolation_value\" value { f: 0 } } attr { key: \"method\" value { s: \"bilinear\" } } inputs { dtype: DT_FLOAT shape { dim { size: -45 } dim { size: 32 } dim { size: 32 } dim { size: 256 } } } inputs { dtype: DT_FLOAT shape { dim { size: -40 } dim { size: 4 } } } inputs { dtype: DT_INT32 shape { dim { size: -40 } } } inputs { dtype: DT_INT32 shape { dim { size: 2 } } value { dtype: DT_INT32 tensor_shape { dim { size: 2 } } int_val: 14 } } device { type: \"CPU\" vendor: \"GenuineIntel\" model: \"101\" frequency: 2100 num_cores: 104 environment { key: \"cpu_instruction_set\" value: \"AVX SSE, SSE2, SSE3, SSSE3, SSE4.1, SSE4.2\" } environment { key: \"eigen\" value: \"3.4.90\" } l1_cache_size: 32768 l2_cache_size: 1048576 l3_cache_size: 37486592 memory_size: 268435456 } outputs { dtype: DT_FLOAT shape { dim { size: -40 } dim { size: 14 } dim { size: 14 } dim { size: 256 } } }\n"
     ]
    },
    {
     "name": "stdout",
     "output_type": "stream",
     "text": [
      "No masks found.\n",
      "Segments saved at /user/mahaohui/IMG2SMILES/collect_NCBI_pdf/picture/dir0/0a2b60e72f76ae7c66db/page_10.pdf_output/segments.\n",
      "/user/mahaohui/IMG2SMILES/collect_NCBI_pdf/picture/dir0/0a2b60e72f76ae7c66db/page_12.pdf\n"
     ]
    },
    {
     "name": "stderr",
     "output_type": "stream",
     "text": [
      "2023-06-07 17:41:55.921472: I tensorflow/core/platform/cpu_feature_guard.cc:193] This TensorFlow binary is optimized with oneAPI Deep Neural Network Library (oneDNN) to use the following CPU instructions in performance-critical operations:  AVX2 AVX512F AVX512_VNNI FMA\n",
      "To enable them in other operations, rebuild TensorFlow with the appropriate compiler flags.\n",
      "2023-06-07 17:41:56.115303: I tensorflow/core/util/util.cc:169] oneDNN custom operations are on. You may see slightly different numerical results due to floating-point round-off errors from different computation orders. To turn them off, set the environment variable `TF_ENABLE_ONEDNN_OPTS=0`.\n",
      "2023-06-07 17:41:56.126330: W tensorflow/stream_executor/platform/default/dso_loader.cc:64] Could not load dynamic library 'libcudart.so.11.0'; dlerror: libcudart.so.11.0: cannot open shared object file: No such file or directory; LD_LIBRARY_PATH: /user/mahaohui/miniconda3/envs/DECIMER_IMGSEG/lib/python3.10/site-packages/cv2/../../lib64:/opt/ohpc/pub/apps/openmpi/4.0.4_cuda10.1_gnu/lib:/user/pengxiangda/apps/orca_5_0_3_linux_x86-64_shared_openmpi411:/user/mahaohui/miniconda3/envs/lib\n",
      "2023-06-07 17:41:56.126360: I tensorflow/stream_executor/cuda/cudart_stub.cc:29] Ignore above cudart dlerror if you do not have a GPU set up on your machine.\n",
      "2023-06-07 17:41:56.193527: E tensorflow/stream_executor/cuda/cuda_blas.cc:2981] Unable to register cuBLAS factory: Attempting to register factory for plugin cuBLAS when one has already been registered\n",
      "2023-06-07 17:42:02.735135: W tensorflow/stream_executor/platform/default/dso_loader.cc:64] Could not load dynamic library 'libnvinfer.so.7'; dlerror: libnvinfer.so.7: cannot open shared object file: No such file or directory; LD_LIBRARY_PATH: /user/mahaohui/miniconda3/envs/DECIMER_IMGSEG/lib/python3.10/site-packages/cv2/../../lib64:/opt/ohpc/pub/apps/openmpi/4.0.4_cuda10.1_gnu/lib:/user/pengxiangda/apps/orca_5_0_3_linux_x86-64_shared_openmpi411:/user/mahaohui/miniconda3/envs/lib\n",
      "2023-06-07 17:42:02.735264: W tensorflow/stream_executor/platform/default/dso_loader.cc:64] Could not load dynamic library 'libnvinfer_plugin.so.7'; dlerror: libnvinfer_plugin.so.7: cannot open shared object file: No such file or directory; LD_LIBRARY_PATH: /user/mahaohui/miniconda3/envs/DECIMER_IMGSEG/lib/python3.10/site-packages/cv2/../../lib64:/opt/ohpc/pub/apps/openmpi/4.0.4_cuda10.1_gnu/lib:/user/pengxiangda/apps/orca_5_0_3_linux_x86-64_shared_openmpi411:/user/mahaohui/miniconda3/envs/lib\n",
      "2023-06-07 17:42:02.735281: W tensorflow/compiler/tf2tensorrt/utils/py_utils.cc:38] TF-TRT Warning: Cannot dlopen some TensorRT libraries. If you would like to use Nvidia GPU with TensorRT, please make sure the missing libraries mentioned above are installed properly.\n",
      "2023-06-07 17:42:10.246386: W tensorflow/stream_executor/platform/default/dso_loader.cc:64] Could not load dynamic library 'libcudart.so.11.0'; dlerror: libcudart.so.11.0: cannot open shared object file: No such file or directory; LD_LIBRARY_PATH: /user/mahaohui/miniconda3/envs/DECIMER_IMGSEG/lib/python3.10/site-packages/cv2/../../lib64:/opt/ohpc/pub/apps/openmpi/4.0.4_cuda10.1_gnu/lib:/user/pengxiangda/apps/orca_5_0_3_linux_x86-64_shared_openmpi411:/user/mahaohui/miniconda3/envs/lib\n",
      "2023-06-07 17:42:10.246481: W tensorflow/stream_executor/platform/default/dso_loader.cc:64] Could not load dynamic library 'libcublas.so.11'; dlerror: libcublas.so.11: cannot open shared object file: No such file or directory; LD_LIBRARY_PATH: /user/mahaohui/miniconda3/envs/DECIMER_IMGSEG/lib/python3.10/site-packages/cv2/../../lib64:/opt/ohpc/pub/apps/openmpi/4.0.4_cuda10.1_gnu/lib:/user/pengxiangda/apps/orca_5_0_3_linux_x86-64_shared_openmpi411:/user/mahaohui/miniconda3/envs/lib\n",
      "2023-06-07 17:42:10.246533: W tensorflow/stream_executor/platform/default/dso_loader.cc:64] Could not load dynamic library 'libcublasLt.so.11'; dlerror: libcublasLt.so.11: cannot open shared object file: No such file or directory; LD_LIBRARY_PATH: /user/mahaohui/miniconda3/envs/DECIMER_IMGSEG/lib/python3.10/site-packages/cv2/../../lib64:/opt/ohpc/pub/apps/openmpi/4.0.4_cuda10.1_gnu/lib:/user/pengxiangda/apps/orca_5_0_3_linux_x86-64_shared_openmpi411:/user/mahaohui/miniconda3/envs/lib\n",
      "2023-06-07 17:42:10.246584: W tensorflow/stream_executor/platform/default/dso_loader.cc:64] Could not load dynamic library 'libcufft.so.10'; dlerror: libcufft.so.10: cannot open shared object file: No such file or directory; LD_LIBRARY_PATH: /user/mahaohui/miniconda3/envs/DECIMER_IMGSEG/lib/python3.10/site-packages/cv2/../../lib64:/opt/ohpc/pub/apps/openmpi/4.0.4_cuda10.1_gnu/lib:/user/pengxiangda/apps/orca_5_0_3_linux_x86-64_shared_openmpi411:/user/mahaohui/miniconda3/envs/lib\n",
      "2023-06-07 17:42:10.246638: W tensorflow/stream_executor/platform/default/dso_loader.cc:64] Could not load dynamic library 'libcurand.so.10'; dlerror: libcurand.so.10: cannot open shared object file: No such file or directory; LD_LIBRARY_PATH: /user/mahaohui/miniconda3/envs/DECIMER_IMGSEG/lib/python3.10/site-packages/cv2/../../lib64:/opt/ohpc/pub/apps/openmpi/4.0.4_cuda10.1_gnu/lib:/user/pengxiangda/apps/orca_5_0_3_linux_x86-64_shared_openmpi411:/user/mahaohui/miniconda3/envs/lib\n",
      "2023-06-07 17:42:10.246689: W tensorflow/stream_executor/platform/default/dso_loader.cc:64] Could not load dynamic library 'libcusolver.so.11'; dlerror: libcusolver.so.11: cannot open shared object file: No such file or directory; LD_LIBRARY_PATH: /user/mahaohui/miniconda3/envs/DECIMER_IMGSEG/lib/python3.10/site-packages/cv2/../../lib64:/opt/ohpc/pub/apps/openmpi/4.0.4_cuda10.1_gnu/lib:/user/pengxiangda/apps/orca_5_0_3_linux_x86-64_shared_openmpi411:/user/mahaohui/miniconda3/envs/lib\n",
      "2023-06-07 17:42:10.246741: W tensorflow/stream_executor/platform/default/dso_loader.cc:64] Could not load dynamic library 'libcusparse.so.11'; dlerror: libcusparse.so.11: cannot open shared object file: No such file or directory; LD_LIBRARY_PATH: /user/mahaohui/miniconda3/envs/DECIMER_IMGSEG/lib/python3.10/site-packages/cv2/../../lib64:/opt/ohpc/pub/apps/openmpi/4.0.4_cuda10.1_gnu/lib:/user/pengxiangda/apps/orca_5_0_3_linux_x86-64_shared_openmpi411:/user/mahaohui/miniconda3/envs/lib\n",
      "2023-06-07 17:42:10.246792: W tensorflow/stream_executor/platform/default/dso_loader.cc:64] Could not load dynamic library 'libcudnn.so.8'; dlerror: libcudnn.so.8: cannot open shared object file: No such file or directory; LD_LIBRARY_PATH: /user/mahaohui/miniconda3/envs/DECIMER_IMGSEG/lib/python3.10/site-packages/cv2/../../lib64:/opt/ohpc/pub/apps/openmpi/4.0.4_cuda10.1_gnu/lib:/user/pengxiangda/apps/orca_5_0_3_linux_x86-64_shared_openmpi411:/user/mahaohui/miniconda3/envs/lib\n",
      "2023-06-07 17:42:10.246809: W tensorflow/core/common_runtime/gpu/gpu_device.cc:1934] Cannot dlopen some GPU libraries. Please make sure the missing libraries mentioned above are installed properly if you would like to use GPU. Follow the guide at https://www.tensorflow.org/install/gpu for how to download and setup the required libraries for your platform.\n",
      "Skipping registering GPU devices...\n",
      "2023-06-07 17:42:14.155672: I tensorflow/core/platform/cpu_feature_guard.cc:193] This TensorFlow binary is optimized with oneAPI Deep Neural Network Library (oneDNN) to use the following CPU instructions in performance-critical operations:  AVX2 AVX512F AVX512_VNNI FMA\n",
      "To enable them in other operations, rebuild TensorFlow with the appropriate compiler flags.\n",
      "WARNING:tensorflow:From /user/mahaohui/miniconda3/envs/DECIMER_IMGSEG/lib/python3.10/site-packages/tensorflow/python/util/deprecation.py:629: calling map_fn_v2 (from tensorflow.python.ops.map_fn) with dtype is deprecated and will be removed in a future version.\n",
      "Instructions for updating:\n",
      "Use fn_output_signature instead\n",
      "2023-06-07 17:42:29.709670: W tensorflow/core/grappler/costs/op_level_cost_estimator.cc:690] Error in PredictCost() for the op: op: \"CropAndResize\" attr { key: \"T\" value { type: DT_FLOAT } } attr { key: \"extrapolation_value\" value { f: 0 } } attr { key: \"method\" value { s: \"bilinear\" } } inputs { dtype: DT_FLOAT shape { dim { size: -45 } dim { size: 256 } dim { size: 256 } dim { size: 256 } } } inputs { dtype: DT_FLOAT shape { dim { size: -19 } dim { size: 4 } } } inputs { dtype: DT_INT32 shape { dim { size: -19 } } } inputs { dtype: DT_INT32 shape { dim { size: 2 } } value { dtype: DT_INT32 tensor_shape { dim { size: 2 } } int_val: 7 } } device { type: \"CPU\" vendor: \"GenuineIntel\" model: \"101\" frequency: 2100 num_cores: 104 environment { key: \"cpu_instruction_set\" value: \"AVX SSE, SSE2, SSE3, SSSE3, SSE4.1, SSE4.2\" } environment { key: \"eigen\" value: \"3.4.90\" } l1_cache_size: 32768 l2_cache_size: 1048576 l3_cache_size: 37486592 memory_size: 268435456 } outputs { dtype: DT_FLOAT shape { dim { size: -19 } dim { size: 7 } dim { size: 7 } dim { size: 256 } } }\n",
      "2023-06-07 17:42:29.709850: W tensorflow/core/grappler/costs/op_level_cost_estimator.cc:690] Error in PredictCost() for the op: op: \"CropAndResize\" attr { key: \"T\" value { type: DT_FLOAT } } attr { key: \"extrapolation_value\" value { f: 0 } } attr { key: \"method\" value { s: \"bilinear\" } } inputs { dtype: DT_FLOAT shape { dim { size: -45 } dim { size: 128 } dim { size: 128 } dim { size: 256 } } } inputs { dtype: DT_FLOAT shape { dim { size: -22 } dim { size: 4 } } } inputs { dtype: DT_INT32 shape { dim { size: -22 } } } inputs { dtype: DT_INT32 shape { dim { size: 2 } } value { dtype: DT_INT32 tensor_shape { dim { size: 2 } } int_val: 7 } } device { type: \"CPU\" vendor: \"GenuineIntel\" model: \"101\" frequency: 2100 num_cores: 104 environment { key: \"cpu_instruction_set\" value: \"AVX SSE, SSE2, SSE3, SSSE3, SSE4.1, SSE4.2\" } environment { key: \"eigen\" value: \"3.4.90\" } l1_cache_size: 32768 l2_cache_size: 1048576 l3_cache_size: 37486592 memory_size: 268435456 } outputs { dtype: DT_FLOAT shape { dim { size: -22 } dim { size: 7 } dim { size: 7 } dim { size: 256 } } }\n",
      "2023-06-07 17:42:29.709958: W tensorflow/core/grappler/costs/op_level_cost_estimator.cc:690] Error in PredictCost() for the op: op: \"CropAndResize\" attr { key: \"T\" value { type: DT_FLOAT } } attr { key: \"extrapolation_value\" value { f: 0 } } attr { key: \"method\" value { s: \"bilinear\" } } inputs { dtype: DT_FLOAT shape { dim { size: -45 } dim { size: 64 } dim { size: 64 } dim { size: 256 } } } inputs { dtype: DT_FLOAT shape { dim { size: -24 } dim { size: 4 } } } inputs { dtype: DT_INT32 shape { dim { size: -24 } } } inputs { dtype: DT_INT32 shape { dim { size: 2 } } value { dtype: DT_INT32 tensor_shape { dim { size: 2 } } int_val: 7 } } device { type: \"CPU\" vendor: \"GenuineIntel\" model: \"101\" frequency: 2100 num_cores: 104 environment { key: \"cpu_instruction_set\" value: \"AVX SSE, SSE2, SSE3, SSSE3, SSE4.1, SSE4.2\" } environment { key: \"eigen\" value: \"3.4.90\" } l1_cache_size: 32768 l2_cache_size: 1048576 l3_cache_size: 37486592 memory_size: 268435456 } outputs { dtype: DT_FLOAT shape { dim { size: -24 } dim { size: 7 } dim { size: 7 } dim { size: 256 } } }\n",
      "2023-06-07 17:42:29.710104: W tensorflow/core/grappler/costs/op_level_cost_estimator.cc:690] Error in PredictCost() for the op: op: \"CropAndResize\" attr { key: \"T\" value { type: DT_FLOAT } } attr { key: \"extrapolation_value\" value { f: 0 } } attr { key: \"method\" value { s: \"bilinear\" } } inputs { dtype: DT_FLOAT shape { dim { size: -45 } dim { size: 32 } dim { size: 32 } dim { size: 256 } } } inputs { dtype: DT_FLOAT shape { dim { size: -26 } dim { size: 4 } } } inputs { dtype: DT_INT32 shape { dim { size: -26 } } } inputs { dtype: DT_INT32 shape { dim { size: 2 } } value { dtype: DT_INT32 tensor_shape { dim { size: 2 } } int_val: 7 } } device { type: \"CPU\" vendor: \"GenuineIntel\" model: \"101\" frequency: 2100 num_cores: 104 environment { key: \"cpu_instruction_set\" value: \"AVX SSE, SSE2, SSE3, SSSE3, SSE4.1, SSE4.2\" } environment { key: \"eigen\" value: \"3.4.90\" } l1_cache_size: 32768 l2_cache_size: 1048576 l3_cache_size: 37486592 memory_size: 268435456 } outputs { dtype: DT_FLOAT shape { dim { size: -26 } dim { size: 7 } dim { size: 7 } dim { size: 256 } } }\n",
      "2023-06-07 17:42:29.715030: W tensorflow/core/grappler/costs/op_level_cost_estimator.cc:690] Error in PredictCost() for the op: op: \"CropAndResize\" attr { key: \"T\" value { type: DT_FLOAT } } attr { key: \"extrapolation_value\" value { f: 0 } } attr { key: \"method\" value { s: \"bilinear\" } } inputs { dtype: DT_FLOAT shape { dim { size: -45 } dim { size: 256 } dim { size: 256 } dim { size: 256 } } } inputs { dtype: DT_FLOAT shape { dim { size: -34 } dim { size: 4 } } } inputs { dtype: DT_INT32 shape { dim { size: -34 } } } inputs { dtype: DT_INT32 shape { dim { size: 2 } } value { dtype: DT_INT32 tensor_shape { dim { size: 2 } } int_val: 14 } } device { type: \"CPU\" vendor: \"GenuineIntel\" model: \"101\" frequency: 2100 num_cores: 104 environment { key: \"cpu_instruction_set\" value: \"AVX SSE, SSE2, SSE3, SSSE3, SSE4.1, SSE4.2\" } environment { key: \"eigen\" value: \"3.4.90\" } l1_cache_size: 32768 l2_cache_size: 1048576 l3_cache_size: 37486592 memory_size: 268435456 } outputs { dtype: DT_FLOAT shape { dim { size: -34 } dim { size: 14 } dim { size: 14 } dim { size: 256 } } }\n",
      "2023-06-07 17:42:29.715158: W tensorflow/core/grappler/costs/op_level_cost_estimator.cc:690] Error in PredictCost() for the op: op: \"CropAndResize\" attr { key: \"T\" value { type: DT_FLOAT } } attr { key: \"extrapolation_value\" value { f: 0 } } attr { key: \"method\" value { s: \"bilinear\" } } inputs { dtype: DT_FLOAT shape { dim { size: -45 } dim { size: 128 } dim { size: 128 } dim { size: 256 } } } inputs { dtype: DT_FLOAT shape { dim { size: -36 } dim { size: 4 } } } inputs { dtype: DT_INT32 shape { dim { size: -36 } } } inputs { dtype: DT_INT32 shape { dim { size: 2 } } value { dtype: DT_INT32 tensor_shape { dim { size: 2 } } int_val: 14 } } device { type: \"CPU\" vendor: \"GenuineIntel\" model: \"101\" frequency: 2100 num_cores: 104 environment { key: \"cpu_instruction_set\" value: \"AVX SSE, SSE2, SSE3, SSSE3, SSE4.1, SSE4.2\" } environment { key: \"eigen\" value: \"3.4.90\" } l1_cache_size: 32768 l2_cache_size: 1048576 l3_cache_size: 37486592 memory_size: 268435456 } outputs { dtype: DT_FLOAT shape { dim { size: -36 } dim { size: 14 } dim { size: 14 } dim { size: 256 } } }\n",
      "2023-06-07 17:42:29.715265: W tensorflow/core/grappler/costs/op_level_cost_estimator.cc:690] Error in PredictCost() for the op: op: \"CropAndResize\" attr { key: \"T\" value { type: DT_FLOAT } } attr { key: \"extrapolation_value\" value { f: 0 } } attr { key: \"method\" value { s: \"bilinear\" } } inputs { dtype: DT_FLOAT shape { dim { size: -45 } dim { size: 64 } dim { size: 64 } dim { size: 256 } } } inputs { dtype: DT_FLOAT shape { dim { size: -38 } dim { size: 4 } } } inputs { dtype: DT_INT32 shape { dim { size: -38 } } } inputs { dtype: DT_INT32 shape { dim { size: 2 } } value { dtype: DT_INT32 tensor_shape { dim { size: 2 } } int_val: 14 } } device { type: \"CPU\" vendor: \"GenuineIntel\" model: \"101\" frequency: 2100 num_cores: 104 environment { key: \"cpu_instruction_set\" value: \"AVX SSE, SSE2, SSE3, SSSE3, SSE4.1, SSE4.2\" } environment { key: \"eigen\" value: \"3.4.90\" } l1_cache_size: 32768 l2_cache_size: 1048576 l3_cache_size: 37486592 memory_size: 268435456 } outputs { dtype: DT_FLOAT shape { dim { size: -38 } dim { size: 14 } dim { size: 14 } dim { size: 256 } } }\n",
      "2023-06-07 17:42:29.715401: W tensorflow/core/grappler/costs/op_level_cost_estimator.cc:690] Error in PredictCost() for the op: op: \"CropAndResize\" attr { key: \"T\" value { type: DT_FLOAT } } attr { key: \"extrapolation_value\" value { f: 0 } } attr { key: \"method\" value { s: \"bilinear\" } } inputs { dtype: DT_FLOAT shape { dim { size: -45 } dim { size: 32 } dim { size: 32 } dim { size: 256 } } } inputs { dtype: DT_FLOAT shape { dim { size: -40 } dim { size: 4 } } } inputs { dtype: DT_INT32 shape { dim { size: -40 } } } inputs { dtype: DT_INT32 shape { dim { size: 2 } } value { dtype: DT_INT32 tensor_shape { dim { size: 2 } } int_val: 14 } } device { type: \"CPU\" vendor: \"GenuineIntel\" model: \"101\" frequency: 2100 num_cores: 104 environment { key: \"cpu_instruction_set\" value: \"AVX SSE, SSE2, SSE3, SSSE3, SSE4.1, SSE4.2\" } environment { key: \"eigen\" value: \"3.4.90\" } l1_cache_size: 32768 l2_cache_size: 1048576 l3_cache_size: 37486592 memory_size: 268435456 } outputs { dtype: DT_FLOAT shape { dim { size: -40 } dim { size: 14 } dim { size: 14 } dim { size: 256 } } }\n"
     ]
    },
    {
     "name": "stdout",
     "output_type": "stream",
     "text": [
      "No masks found.\n",
      "Segments saved at /user/mahaohui/IMG2SMILES/collect_NCBI_pdf/picture/dir0/0a2b60e72f76ae7c66db/page_12.pdf_output/segments.\n",
      "/user/mahaohui/IMG2SMILES/collect_NCBI_pdf/picture/dir0/0a2b60e72f76ae7c66db/page_11.pdf\n"
     ]
    },
    {
     "name": "stderr",
     "output_type": "stream",
     "text": [
      "2023-06-07 17:42:39.030812: I tensorflow/core/platform/cpu_feature_guard.cc:193] This TensorFlow binary is optimized with oneAPI Deep Neural Network Library (oneDNN) to use the following CPU instructions in performance-critical operations:  AVX2 AVX512F AVX512_VNNI FMA\n",
      "To enable them in other operations, rebuild TensorFlow with the appropriate compiler flags.\n",
      "2023-06-07 17:42:39.298568: I tensorflow/core/util/util.cc:169] oneDNN custom operations are on. You may see slightly different numerical results due to floating-point round-off errors from different computation orders. To turn them off, set the environment variable `TF_ENABLE_ONEDNN_OPTS=0`.\n",
      "2023-06-07 17:42:39.310212: W tensorflow/stream_executor/platform/default/dso_loader.cc:64] Could not load dynamic library 'libcudart.so.11.0'; dlerror: libcudart.so.11.0: cannot open shared object file: No such file or directory; LD_LIBRARY_PATH: /user/mahaohui/miniconda3/envs/DECIMER_IMGSEG/lib/python3.10/site-packages/cv2/../../lib64:/opt/ohpc/pub/apps/openmpi/4.0.4_cuda10.1_gnu/lib:/user/pengxiangda/apps/orca_5_0_3_linux_x86-64_shared_openmpi411:/user/mahaohui/miniconda3/envs/lib\n",
      "2023-06-07 17:42:39.310246: I tensorflow/stream_executor/cuda/cudart_stub.cc:29] Ignore above cudart dlerror if you do not have a GPU set up on your machine.\n",
      "2023-06-07 17:42:39.357654: E tensorflow/stream_executor/cuda/cuda_blas.cc:2981] Unable to register cuBLAS factory: Attempting to register factory for plugin cuBLAS when one has already been registered\n",
      "2023-06-07 17:42:43.799541: W tensorflow/stream_executor/platform/default/dso_loader.cc:64] Could not load dynamic library 'libnvinfer.so.7'; dlerror: libnvinfer.so.7: cannot open shared object file: No such file or directory; LD_LIBRARY_PATH: /user/mahaohui/miniconda3/envs/DECIMER_IMGSEG/lib/python3.10/site-packages/cv2/../../lib64:/opt/ohpc/pub/apps/openmpi/4.0.4_cuda10.1_gnu/lib:/user/pengxiangda/apps/orca_5_0_3_linux_x86-64_shared_openmpi411:/user/mahaohui/miniconda3/envs/lib\n",
      "2023-06-07 17:42:43.799691: W tensorflow/stream_executor/platform/default/dso_loader.cc:64] Could not load dynamic library 'libnvinfer_plugin.so.7'; dlerror: libnvinfer_plugin.so.7: cannot open shared object file: No such file or directory; LD_LIBRARY_PATH: /user/mahaohui/miniconda3/envs/DECIMER_IMGSEG/lib/python3.10/site-packages/cv2/../../lib64:/opt/ohpc/pub/apps/openmpi/4.0.4_cuda10.1_gnu/lib:/user/pengxiangda/apps/orca_5_0_3_linux_x86-64_shared_openmpi411:/user/mahaohui/miniconda3/envs/lib\n",
      "2023-06-07 17:42:43.799710: W tensorflow/compiler/tf2tensorrt/utils/py_utils.cc:38] TF-TRT Warning: Cannot dlopen some TensorRT libraries. If you would like to use Nvidia GPU with TensorRT, please make sure the missing libraries mentioned above are installed properly.\n",
      "2023-06-07 17:42:56.634880: W tensorflow/stream_executor/platform/default/dso_loader.cc:64] Could not load dynamic library 'libcudart.so.11.0'; dlerror: libcudart.so.11.0: cannot open shared object file: No such file or directory; LD_LIBRARY_PATH: /user/mahaohui/miniconda3/envs/DECIMER_IMGSEG/lib/python3.10/site-packages/cv2/../../lib64:/opt/ohpc/pub/apps/openmpi/4.0.4_cuda10.1_gnu/lib:/user/pengxiangda/apps/orca_5_0_3_linux_x86-64_shared_openmpi411:/user/mahaohui/miniconda3/envs/lib\n",
      "2023-06-07 17:42:56.635051: W tensorflow/stream_executor/platform/default/dso_loader.cc:64] Could not load dynamic library 'libcublas.so.11'; dlerror: libcublas.so.11: cannot open shared object file: No such file or directory; LD_LIBRARY_PATH: /user/mahaohui/miniconda3/envs/DECIMER_IMGSEG/lib/python3.10/site-packages/cv2/../../lib64:/opt/ohpc/pub/apps/openmpi/4.0.4_cuda10.1_gnu/lib:/user/pengxiangda/apps/orca_5_0_3_linux_x86-64_shared_openmpi411:/user/mahaohui/miniconda3/envs/lib\n",
      "2023-06-07 17:42:56.635146: W tensorflow/stream_executor/platform/default/dso_loader.cc:64] Could not load dynamic library 'libcublasLt.so.11'; dlerror: libcublasLt.so.11: cannot open shared object file: No such file or directory; LD_LIBRARY_PATH: /user/mahaohui/miniconda3/envs/DECIMER_IMGSEG/lib/python3.10/site-packages/cv2/../../lib64:/opt/ohpc/pub/apps/openmpi/4.0.4_cuda10.1_gnu/lib:/user/pengxiangda/apps/orca_5_0_3_linux_x86-64_shared_openmpi411:/user/mahaohui/miniconda3/envs/lib\n",
      "2023-06-07 17:42:56.635257: W tensorflow/stream_executor/platform/default/dso_loader.cc:64] Could not load dynamic library 'libcufft.so.10'; dlerror: libcufft.so.10: cannot open shared object file: No such file or directory; LD_LIBRARY_PATH: /user/mahaohui/miniconda3/envs/DECIMER_IMGSEG/lib/python3.10/site-packages/cv2/../../lib64:/opt/ohpc/pub/apps/openmpi/4.0.4_cuda10.1_gnu/lib:/user/pengxiangda/apps/orca_5_0_3_linux_x86-64_shared_openmpi411:/user/mahaohui/miniconda3/envs/lib\n",
      "2023-06-07 17:42:56.635353: W tensorflow/stream_executor/platform/default/dso_loader.cc:64] Could not load dynamic library 'libcurand.so.10'; dlerror: libcurand.so.10: cannot open shared object file: No such file or directory; LD_LIBRARY_PATH: /user/mahaohui/miniconda3/envs/DECIMER_IMGSEG/lib/python3.10/site-packages/cv2/../../lib64:/opt/ohpc/pub/apps/openmpi/4.0.4_cuda10.1_gnu/lib:/user/pengxiangda/apps/orca_5_0_3_linux_x86-64_shared_openmpi411:/user/mahaohui/miniconda3/envs/lib\n",
      "2023-06-07 17:42:56.635447: W tensorflow/stream_executor/platform/default/dso_loader.cc:64] Could not load dynamic library 'libcusolver.so.11'; dlerror: libcusolver.so.11: cannot open shared object file: No such file or directory; LD_LIBRARY_PATH: /user/mahaohui/miniconda3/envs/DECIMER_IMGSEG/lib/python3.10/site-packages/cv2/../../lib64:/opt/ohpc/pub/apps/openmpi/4.0.4_cuda10.1_gnu/lib:/user/pengxiangda/apps/orca_5_0_3_linux_x86-64_shared_openmpi411:/user/mahaohui/miniconda3/envs/lib\n",
      "2023-06-07 17:42:56.635542: W tensorflow/stream_executor/platform/default/dso_loader.cc:64] Could not load dynamic library 'libcusparse.so.11'; dlerror: libcusparse.so.11: cannot open shared object file: No such file or directory; LD_LIBRARY_PATH: /user/mahaohui/miniconda3/envs/DECIMER_IMGSEG/lib/python3.10/site-packages/cv2/../../lib64:/opt/ohpc/pub/apps/openmpi/4.0.4_cuda10.1_gnu/lib:/user/pengxiangda/apps/orca_5_0_3_linux_x86-64_shared_openmpi411:/user/mahaohui/miniconda3/envs/lib\n",
      "2023-06-07 17:42:56.635635: W tensorflow/stream_executor/platform/default/dso_loader.cc:64] Could not load dynamic library 'libcudnn.so.8'; dlerror: libcudnn.so.8: cannot open shared object file: No such file or directory; LD_LIBRARY_PATH: /user/mahaohui/miniconda3/envs/DECIMER_IMGSEG/lib/python3.10/site-packages/cv2/../../lib64:/opt/ohpc/pub/apps/openmpi/4.0.4_cuda10.1_gnu/lib:/user/pengxiangda/apps/orca_5_0_3_linux_x86-64_shared_openmpi411:/user/mahaohui/miniconda3/envs/lib\n",
      "2023-06-07 17:42:56.635668: W tensorflow/core/common_runtime/gpu/gpu_device.cc:1934] Cannot dlopen some GPU libraries. Please make sure the missing libraries mentioned above are installed properly if you would like to use GPU. Follow the guide at https://www.tensorflow.org/install/gpu for how to download and setup the required libraries for your platform.\n",
      "Skipping registering GPU devices...\n",
      "2023-06-07 17:43:03.141575: I tensorflow/core/platform/cpu_feature_guard.cc:193] This TensorFlow binary is optimized with oneAPI Deep Neural Network Library (oneDNN) to use the following CPU instructions in performance-critical operations:  AVX2 AVX512F AVX512_VNNI FMA\n",
      "To enable them in other operations, rebuild TensorFlow with the appropriate compiler flags.\n",
      "WARNING:tensorflow:From /user/mahaohui/miniconda3/envs/DECIMER_IMGSEG/lib/python3.10/site-packages/tensorflow/python/util/deprecation.py:629: calling map_fn_v2 (from tensorflow.python.ops.map_fn) with dtype is deprecated and will be removed in a future version.\n",
      "Instructions for updating:\n",
      "Use fn_output_signature instead\n",
      "2023-06-07 17:43:18.800735: W tensorflow/core/grappler/costs/op_level_cost_estimator.cc:690] Error in PredictCost() for the op: op: \"CropAndResize\" attr { key: \"T\" value { type: DT_FLOAT } } attr { key: \"extrapolation_value\" value { f: 0 } } attr { key: \"method\" value { s: \"bilinear\" } } inputs { dtype: DT_FLOAT shape { dim { size: -45 } dim { size: 256 } dim { size: 256 } dim { size: 256 } } } inputs { dtype: DT_FLOAT shape { dim { size: -19 } dim { size: 4 } } } inputs { dtype: DT_INT32 shape { dim { size: -19 } } } inputs { dtype: DT_INT32 shape { dim { size: 2 } } value { dtype: DT_INT32 tensor_shape { dim { size: 2 } } int_val: 7 } } device { type: \"CPU\" vendor: \"GenuineIntel\" model: \"101\" frequency: 2100 num_cores: 104 environment { key: \"cpu_instruction_set\" value: \"AVX SSE, SSE2, SSE3, SSSE3, SSE4.1, SSE4.2\" } environment { key: \"eigen\" value: \"3.4.90\" } l1_cache_size: 32768 l2_cache_size: 1048576 l3_cache_size: 37486592 memory_size: 268435456 } outputs { dtype: DT_FLOAT shape { dim { size: -19 } dim { size: 7 } dim { size: 7 } dim { size: 256 } } }\n",
      "2023-06-07 17:43:18.800869: W tensorflow/core/grappler/costs/op_level_cost_estimator.cc:690] Error in PredictCost() for the op: op: \"CropAndResize\" attr { key: \"T\" value { type: DT_FLOAT } } attr { key: \"extrapolation_value\" value { f: 0 } } attr { key: \"method\" value { s: \"bilinear\" } } inputs { dtype: DT_FLOAT shape { dim { size: -45 } dim { size: 128 } dim { size: 128 } dim { size: 256 } } } inputs { dtype: DT_FLOAT shape { dim { size: -22 } dim { size: 4 } } } inputs { dtype: DT_INT32 shape { dim { size: -22 } } } inputs { dtype: DT_INT32 shape { dim { size: 2 } } value { dtype: DT_INT32 tensor_shape { dim { size: 2 } } int_val: 7 } } device { type: \"CPU\" vendor: \"GenuineIntel\" model: \"101\" frequency: 2100 num_cores: 104 environment { key: \"cpu_instruction_set\" value: \"AVX SSE, SSE2, SSE3, SSSE3, SSE4.1, SSE4.2\" } environment { key: \"eigen\" value: \"3.4.90\" } l1_cache_size: 32768 l2_cache_size: 1048576 l3_cache_size: 37486592 memory_size: 268435456 } outputs { dtype: DT_FLOAT shape { dim { size: -22 } dim { size: 7 } dim { size: 7 } dim { size: 256 } } }\n",
      "2023-06-07 17:43:18.800952: W tensorflow/core/grappler/costs/op_level_cost_estimator.cc:690] Error in PredictCost() for the op: op: \"CropAndResize\" attr { key: \"T\" value { type: DT_FLOAT } } attr { key: \"extrapolation_value\" value { f: 0 } } attr { key: \"method\" value { s: \"bilinear\" } } inputs { dtype: DT_FLOAT shape { dim { size: -45 } dim { size: 64 } dim { size: 64 } dim { size: 256 } } } inputs { dtype: DT_FLOAT shape { dim { size: -24 } dim { size: 4 } } } inputs { dtype: DT_INT32 shape { dim { size: -24 } } } inputs { dtype: DT_INT32 shape { dim { size: 2 } } value { dtype: DT_INT32 tensor_shape { dim { size: 2 } } int_val: 7 } } device { type: \"CPU\" vendor: \"GenuineIntel\" model: \"101\" frequency: 2100 num_cores: 104 environment { key: \"cpu_instruction_set\" value: \"AVX SSE, SSE2, SSE3, SSSE3, SSE4.1, SSE4.2\" } environment { key: \"eigen\" value: \"3.4.90\" } l1_cache_size: 32768 l2_cache_size: 1048576 l3_cache_size: 37486592 memory_size: 268435456 } outputs { dtype: DT_FLOAT shape { dim { size: -24 } dim { size: 7 } dim { size: 7 } dim { size: 256 } } }\n",
      "2023-06-07 17:43:18.801069: W tensorflow/core/grappler/costs/op_level_cost_estimator.cc:690] Error in PredictCost() for the op: op: \"CropAndResize\" attr { key: \"T\" value { type: DT_FLOAT } } attr { key: \"extrapolation_value\" value { f: 0 } } attr { key: \"method\" value { s: \"bilinear\" } } inputs { dtype: DT_FLOAT shape { dim { size: -45 } dim { size: 32 } dim { size: 32 } dim { size: 256 } } } inputs { dtype: DT_FLOAT shape { dim { size: -26 } dim { size: 4 } } } inputs { dtype: DT_INT32 shape { dim { size: -26 } } } inputs { dtype: DT_INT32 shape { dim { size: 2 } } value { dtype: DT_INT32 tensor_shape { dim { size: 2 } } int_val: 7 } } device { type: \"CPU\" vendor: \"GenuineIntel\" model: \"101\" frequency: 2100 num_cores: 104 environment { key: \"cpu_instruction_set\" value: \"AVX SSE, SSE2, SSE3, SSSE3, SSE4.1, SSE4.2\" } environment { key: \"eigen\" value: \"3.4.90\" } l1_cache_size: 32768 l2_cache_size: 1048576 l3_cache_size: 37486592 memory_size: 268435456 } outputs { dtype: DT_FLOAT shape { dim { size: -26 } dim { size: 7 } dim { size: 7 } dim { size: 256 } } }\n",
      "2023-06-07 17:43:18.805023: W tensorflow/core/grappler/costs/op_level_cost_estimator.cc:690] Error in PredictCost() for the op: op: \"CropAndResize\" attr { key: \"T\" value { type: DT_FLOAT } } attr { key: \"extrapolation_value\" value { f: 0 } } attr { key: \"method\" value { s: \"bilinear\" } } inputs { dtype: DT_FLOAT shape { dim { size: -45 } dim { size: 256 } dim { size: 256 } dim { size: 256 } } } inputs { dtype: DT_FLOAT shape { dim { size: -34 } dim { size: 4 } } } inputs { dtype: DT_INT32 shape { dim { size: -34 } } } inputs { dtype: DT_INT32 shape { dim { size: 2 } } value { dtype: DT_INT32 tensor_shape { dim { size: 2 } } int_val: 14 } } device { type: \"CPU\" vendor: \"GenuineIntel\" model: \"101\" frequency: 2100 num_cores: 104 environment { key: \"cpu_instruction_set\" value: \"AVX SSE, SSE2, SSE3, SSSE3, SSE4.1, SSE4.2\" } environment { key: \"eigen\" value: \"3.4.90\" } l1_cache_size: 32768 l2_cache_size: 1048576 l3_cache_size: 37486592 memory_size: 268435456 } outputs { dtype: DT_FLOAT shape { dim { size: -34 } dim { size: 14 } dim { size: 14 } dim { size: 256 } } }\n",
      "2023-06-07 17:43:18.805142: W tensorflow/core/grappler/costs/op_level_cost_estimator.cc:690] Error in PredictCost() for the op: op: \"CropAndResize\" attr { key: \"T\" value { type: DT_FLOAT } } attr { key: \"extrapolation_value\" value { f: 0 } } attr { key: \"method\" value { s: \"bilinear\" } } inputs { dtype: DT_FLOAT shape { dim { size: -45 } dim { size: 128 } dim { size: 128 } dim { size: 256 } } } inputs { dtype: DT_FLOAT shape { dim { size: -36 } dim { size: 4 } } } inputs { dtype: DT_INT32 shape { dim { size: -36 } } } inputs { dtype: DT_INT32 shape { dim { size: 2 } } value { dtype: DT_INT32 tensor_shape { dim { size: 2 } } int_val: 14 } } device { type: \"CPU\" vendor: \"GenuineIntel\" model: \"101\" frequency: 2100 num_cores: 104 environment { key: \"cpu_instruction_set\" value: \"AVX SSE, SSE2, SSE3, SSSE3, SSE4.1, SSE4.2\" } environment { key: \"eigen\" value: \"3.4.90\" } l1_cache_size: 32768 l2_cache_size: 1048576 l3_cache_size: 37486592 memory_size: 268435456 } outputs { dtype: DT_FLOAT shape { dim { size: -36 } dim { size: 14 } dim { size: 14 } dim { size: 256 } } }\n",
      "2023-06-07 17:43:18.805241: W tensorflow/core/grappler/costs/op_level_cost_estimator.cc:690] Error in PredictCost() for the op: op: \"CropAndResize\" attr { key: \"T\" value { type: DT_FLOAT } } attr { key: \"extrapolation_value\" value { f: 0 } } attr { key: \"method\" value { s: \"bilinear\" } } inputs { dtype: DT_FLOAT shape { dim { size: -45 } dim { size: 64 } dim { size: 64 } dim { size: 256 } } } inputs { dtype: DT_FLOAT shape { dim { size: -38 } dim { size: 4 } } } inputs { dtype: DT_INT32 shape { dim { size: -38 } } } inputs { dtype: DT_INT32 shape { dim { size: 2 } } value { dtype: DT_INT32 tensor_shape { dim { size: 2 } } int_val: 14 } } device { type: \"CPU\" vendor: \"GenuineIntel\" model: \"101\" frequency: 2100 num_cores: 104 environment { key: \"cpu_instruction_set\" value: \"AVX SSE, SSE2, SSE3, SSSE3, SSE4.1, SSE4.2\" } environment { key: \"eigen\" value: \"3.4.90\" } l1_cache_size: 32768 l2_cache_size: 1048576 l3_cache_size: 37486592 memory_size: 268435456 } outputs { dtype: DT_FLOAT shape { dim { size: -38 } dim { size: 14 } dim { size: 14 } dim { size: 256 } } }\n",
      "2023-06-07 17:43:18.805363: W tensorflow/core/grappler/costs/op_level_cost_estimator.cc:690] Error in PredictCost() for the op: op: \"CropAndResize\" attr { key: \"T\" value { type: DT_FLOAT } } attr { key: \"extrapolation_value\" value { f: 0 } } attr { key: \"method\" value { s: \"bilinear\" } } inputs { dtype: DT_FLOAT shape { dim { size: -45 } dim { size: 32 } dim { size: 32 } dim { size: 256 } } } inputs { dtype: DT_FLOAT shape { dim { size: -40 } dim { size: 4 } } } inputs { dtype: DT_INT32 shape { dim { size: -40 } } } inputs { dtype: DT_INT32 shape { dim { size: 2 } } value { dtype: DT_INT32 tensor_shape { dim { size: 2 } } int_val: 14 } } device { type: \"CPU\" vendor: \"GenuineIntel\" model: \"101\" frequency: 2100 num_cores: 104 environment { key: \"cpu_instruction_set\" value: \"AVX SSE, SSE2, SSE3, SSSE3, SSE4.1, SSE4.2\" } environment { key: \"eigen\" value: \"3.4.90\" } l1_cache_size: 32768 l2_cache_size: 1048576 l3_cache_size: 37486592 memory_size: 268435456 } outputs { dtype: DT_FLOAT shape { dim { size: -40 } dim { size: 14 } dim { size: 14 } dim { size: 256 } } }\n"
     ]
    },
    {
     "name": "stdout",
     "output_type": "stream",
     "text": [
      "No masks found.\n",
      "Segments saved at /user/mahaohui/IMG2SMILES/collect_NCBI_pdf/picture/dir0/0a2b60e72f76ae7c66db/page_11.pdf_output/segments.\n"
     ]
    }
   ],
   "source": [
    "import subprocess\n",
    "import glob\n",
    "\n",
    "\n",
    "def segment_pdf(pdf_dir):\n",
    "    for pdf in glob.glob(pdf_dir+\"/*orig*.pdf\"):\n",
    "        print(pdf)\n",
    "        # Call the script and pass the file path as an argument\n",
    "        subprocess.call([\"python3\", \"/user/mahaohui/IMG2SMILES/DECIMER_segmentation/segment_structures_in_document.py\", pdf])\n",
    "\n",
    "segment_pdf(\"/user/mahaohui/IMG2SMILES/collect_NCBI_pdf/picture/dir0/0a2b60e72f76ae7c66db\")"
   ]
  },
  {
   "cell_type": "code",
   "execution_count": null,
   "id": "355df6ad",
   "metadata": {},
   "outputs": [],
   "source": []
  },
  {
   "cell_type": "code",
   "execution_count": null,
   "id": "204583b3",
   "metadata": {},
   "outputs": [],
   "source": []
  },
  {
   "cell_type": "code",
   "execution_count": null,
   "id": "54f66d8f",
   "metadata": {},
   "outputs": [],
   "source": [
    "# image classifier"
   ]
  }
 ],
 "metadata": {
  "kernelspec": {
   "display_name": "Python 3 (ipykernel)",
   "language": "python",
   "name": "python3"
  },
  "language_info": {
   "codemirror_mode": {
    "name": "ipython",
    "version": 3
   },
   "file_extension": ".py",
   "mimetype": "text/x-python",
   "name": "python",
   "nbconvert_exporter": "python",
   "pygments_lexer": "ipython3",
   "version": "3.10.8"
  }
 },
 "nbformat": 4,
 "nbformat_minor": 5
}
